{
 "cells": [
  {
   "cell_type": "code",
   "execution_count": 1,
   "metadata": {},
   "outputs": [
    {
     "name": "stderr",
     "output_type": "stream",
     "text": [
      "C:\\Users\\Bogdan\\AppData\\Local\\Temp\\ipykernel_5292\\1057530124.py:9: UserWarning: Could not infer format, so each element will be parsed individually, falling back to `dateutil`. To ensure parsing is consistent and as-expected, please specify a format.\n",
      "  df2['DATE'] = pd.to_datetime(df2['DATE'])\n"
     ]
    }
   ],
   "source": [
    "import pandas as pd\n",
    "\n",
    "df1 = pd.read_csv(r\"C:\\Users\\Bogdan\\OneDrive - University of Warwick\\Desktop\\Projects\\(OIL) Oil Trading & Weather Dispersion\\Data\\The complete data_frame\\merged_file_Prices.csv\")\n",
    "\n",
    "df2 = pd.read_csv(r\"C:\\Users\\Bogdan\\OneDrive - University of Warwick\\Desktop\\Projects\\(OIL) Oil Trading & Weather Dispersion\\Data\\The complete data_frame\\merged_file_Temp.csv\")\n",
    "\n",
    "df1['DATE'] = pd.to_datetime(df1['DATE'])\n",
    "\n",
    "df2['DATE'] = pd.to_datetime(df2['DATE'])"
   ]
  },
  {
   "cell_type": "code",
   "execution_count": 2,
   "metadata": {},
   "outputs": [],
   "source": [
    "merged_file = pd.merge(df2, df1, on = 'DATE', how = 'inner')\n",
    "\n",
    "merged_file.to_csv(\"here.csv\", index=False)"
   ]
  }
 ],
 "metadata": {
  "kernelspec": {
   "display_name": "base",
   "language": "python",
   "name": "python3"
  },
  "language_info": {
   "codemirror_mode": {
    "name": "ipython",
    "version": 3
   },
   "file_extension": ".py",
   "mimetype": "text/x-python",
   "name": "python",
   "nbconvert_exporter": "python",
   "pygments_lexer": "ipython3",
   "version": "3.11.5"
  }
 },
 "nbformat": 4,
 "nbformat_minor": 2
}
